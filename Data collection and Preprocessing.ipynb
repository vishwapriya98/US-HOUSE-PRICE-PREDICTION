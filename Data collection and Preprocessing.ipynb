{
 "cells": [
  {
   "cell_type": "markdown",
   "id": "cb52b6d9",
   "metadata": {},
   "source": [
    "<h3>Problem Statement:</h3> <h5> Using publicly available data on the national factors that impact the supply and demand of homes in the US, build a data science model to study the effect of these variables on home prices.</h5>\n",
    "\n",
    "<h3>INSIGHTS</h3>: The following features are taken for consideration:\n",
    "\n",
    "    1- Unemployment Rate<br>\n",
    "    2- Per capita GDP<br>\n",
    "    3- Median Household Income<br>\n",
    "    4- Construction Prices<br>\n",
    "    5- Consumer price index<br>\n",
    "    6- Interest Rates<br>\n",
    "    7- The number of new houses supplied<br>\n",
    "    8- Working Population<br>\n",
    "    9- Number of Households<br>\n",
    "    10- Population Growth\n",
    "<h5>As a proxy for home prices, the S&P Case-Shiller Index is used.</h5>"
   ]
  },
  {
   "cell_type": "markdown",
   "id": "9ae515eb",
   "metadata": {},
   "source": [
    "<h6>So after deciding the features I have downloaded the dataset of those feature from the following websites</h6>\n",
    "\n",
    " https://fred.stlouisfed.org/series/CUUR0000SEHA<br>\n",
    " https://www.census.gov/construction/nrc/<br>\n",
    " https://www.bls.gov/<br>\n",
    " https://www.bls.gov/charts/employment-situation/civilian-unemployment-rate.htm<br>\n",
    " https://www.zillow.com/research/data/"
   ]
  },
  {
   "cell_type": "markdown",
   "id": "4b6e42dd",
   "metadata": {},
   "source": [
    "## Data Collection and Data Preprocessing"
   ]
  },
  {
   "cell_type": "code",
   "execution_count": 26,
   "id": "2f6b7afd",
   "metadata": {},
   "outputs": [],
   "source": [
    "#importing libraries\n",
    "import pandas as pd\n",
    "import numpy as np"
   ]
  },
  {
   "cell_type": "code",
   "execution_count": 2,
   "id": "883a4518",
   "metadata": {},
   "outputs": [
    {
     "name": "stdout",
     "output_type": "stream",
     "text": [
      "(255, 4)\n"
     ]
    },
    {
     "data": {
      "text/html": [
       "<div>\n",
       "<style scoped>\n",
       "    .dataframe tbody tr th:only-of-type {\n",
       "        vertical-align: middle;\n",
       "    }\n",
       "\n",
       "    .dataframe tbody tr th {\n",
       "        vertical-align: top;\n",
       "    }\n",
       "\n",
       "    .dataframe thead th {\n",
       "        text-align: right;\n",
       "    }\n",
       "</style>\n",
       "<table border=\"1\" class=\"dataframe\">\n",
       "  <thead>\n",
       "    <tr style=\"text-align: right;\">\n",
       "      <th></th>\n",
       "      <th>DATE</th>\n",
       "      <th>CSUSHPISA</th>\n",
       "      <th>Year</th>\n",
       "      <th>Month</th>\n",
       "    </tr>\n",
       "  </thead>\n",
       "  <tbody>\n",
       "    <tr>\n",
       "      <th>250</th>\n",
       "      <td>2023-05-01</td>\n",
       "      <td>302.566</td>\n",
       "      <td>2023</td>\n",
       "      <td>5</td>\n",
       "    </tr>\n",
       "    <tr>\n",
       "      <th>251</th>\n",
       "      <td>2023-06-01</td>\n",
       "      <td>304.593</td>\n",
       "      <td>2023</td>\n",
       "      <td>6</td>\n",
       "    </tr>\n",
       "    <tr>\n",
       "      <th>252</th>\n",
       "      <td>2023-07-01</td>\n",
       "      <td>306.767</td>\n",
       "      <td>2023</td>\n",
       "      <td>7</td>\n",
       "    </tr>\n",
       "    <tr>\n",
       "      <th>253</th>\n",
       "      <td>2023-08-01</td>\n",
       "      <td>309.155</td>\n",
       "      <td>2023</td>\n",
       "      <td>8</td>\n",
       "    </tr>\n",
       "    <tr>\n",
       "      <th>254</th>\n",
       "      <td>2023-09-01</td>\n",
       "      <td>311.175</td>\n",
       "      <td>2023</td>\n",
       "      <td>9</td>\n",
       "    </tr>\n",
       "  </tbody>\n",
       "</table>\n",
       "</div>"
      ],
      "text/plain": [
       "          DATE  CSUSHPISA  Year  Month\n",
       "250 2023-05-01    302.566  2023      5\n",
       "251 2023-06-01    304.593  2023      6\n",
       "252 2023-07-01    306.767  2023      7\n",
       "253 2023-08-01    309.155  2023      8\n",
       "254 2023-09-01    311.175  2023      9"
      ]
     },
     "execution_count": 2,
     "metadata": {},
     "output_type": "execute_result"
    }
   ],
   "source": [
    "#Reading CASE-SHILLER Index into a dataframe\n",
    "df_CS = pd.read_csv(\"c1.csv\")\n",
    "\n",
    "#Changing dtype of date column\n",
    "df_CS[\"DATE\"] = pd.to_datetime(df_CS[\"DATE\"])\n",
    "\n",
    "#Selecting data post JUNE 2001\n",
    "mask = df_CS[\"DATE\"] >= \"2002-07-01\"\n",
    "df_CS = df_CS[mask]\n",
    "\n",
    "#Resetting Index\n",
    "df_CS.reset_index(inplace = True)\n",
    "df_CS.drop(columns = [\"index\"], inplace = True)\n",
    "\n",
    "# Creating \"Year\" and \"Month\" columns\n",
    "df_CS[\"Year\"] = pd.DatetimeIndex(df_CS[\"DATE\"]).year\n",
    "df_CS[\"Month\"] = pd.DatetimeIndex(df_CS[\"DATE\"]).month\n",
    "print(df_CS.shape)\n",
    "df_CS.tail()"
   ]
  },
  {
   "cell_type": "code",
   "execution_count": 28,
   "id": "a14108d2",
   "metadata": {},
   "outputs": [
    {
     "data": {
      "text/html": [
       "<div>\n",
       "<style scoped>\n",
       "    .dataframe tbody tr th:only-of-type {\n",
       "        vertical-align: middle;\n",
       "    }\n",
       "\n",
       "    .dataframe tbody tr th {\n",
       "        vertical-align: top;\n",
       "    }\n",
       "\n",
       "    .dataframe thead th {\n",
       "        text-align: right;\n",
       "    }\n",
       "</style>\n",
       "<table border=\"1\" class=\"dataframe\">\n",
       "  <thead>\n",
       "    <tr style=\"text-align: right;\">\n",
       "      <th></th>\n",
       "      <th>DATE</th>\n",
       "      <th>CSUSHPISA</th>\n",
       "      <th>Year</th>\n",
       "      <th>Month</th>\n",
       "    </tr>\n",
       "  </thead>\n",
       "  <tbody>\n",
       "    <tr>\n",
       "      <th>0</th>\n",
       "      <td>2002-01-01</td>\n",
       "      <td>117.144</td>\n",
       "      <td>2002</td>\n",
       "      <td>1</td>\n",
       "    </tr>\n",
       "    <tr>\n",
       "      <th>1</th>\n",
       "      <td>2002-02-01</td>\n",
       "      <td>117.845</td>\n",
       "      <td>2002</td>\n",
       "      <td>2</td>\n",
       "    </tr>\n",
       "    <tr>\n",
       "      <th>2</th>\n",
       "      <td>2002-03-01</td>\n",
       "      <td>118.687</td>\n",
       "      <td>2002</td>\n",
       "      <td>3</td>\n",
       "    </tr>\n",
       "    <tr>\n",
       "      <th>3</th>\n",
       "      <td>2002-04-01</td>\n",
       "      <td>119.611</td>\n",
       "      <td>2002</td>\n",
       "      <td>4</td>\n",
       "    </tr>\n",
       "    <tr>\n",
       "      <th>4</th>\n",
       "      <td>2002-05-01</td>\n",
       "      <td>120.724</td>\n",
       "      <td>2002</td>\n",
       "      <td>5</td>\n",
       "    </tr>\n",
       "  </tbody>\n",
       "</table>\n",
       "</div>"
      ],
      "text/plain": [
       "        DATE  CSUSHPISA  Year  Month\n",
       "0 2002-01-01    117.144  2002      1\n",
       "1 2002-02-01    117.845  2002      2\n",
       "2 2002-03-01    118.687  2002      3\n",
       "3 2002-04-01    119.611  2002      4\n",
       "4 2002-05-01    120.724  2002      5"
      ]
     },
     "execution_count": 28,
     "metadata": {},
     "output_type": "execute_result"
    }
   ],
   "source": [
    "df_CS.head()"
   ]
  },
  {
   "cell_type": "code",
   "execution_count": 3,
   "id": "a7a6c0e4",
   "metadata": {},
   "outputs": [
    {
     "name": "stdout",
     "output_type": "stream",
     "text": [
      "(255, 2)\n"
     ]
    },
    {
     "data": {
      "text/html": [
       "<div>\n",
       "<style scoped>\n",
       "    .dataframe tbody tr th:only-of-type {\n",
       "        vertical-align: middle;\n",
       "    }\n",
       "\n",
       "    .dataframe tbody tr th {\n",
       "        vertical-align: top;\n",
       "    }\n",
       "\n",
       "    .dataframe thead th {\n",
       "        text-align: right;\n",
       "    }\n",
       "</style>\n",
       "<table border=\"1\" class=\"dataframe\">\n",
       "  <thead>\n",
       "    <tr style=\"text-align: right;\">\n",
       "      <th></th>\n",
       "      <th>DATE</th>\n",
       "      <th>UNRATE</th>\n",
       "    </tr>\n",
       "  </thead>\n",
       "  <tbody>\n",
       "    <tr>\n",
       "      <th>250</th>\n",
       "      <td>2023-05-01</td>\n",
       "      <td>3.7</td>\n",
       "    </tr>\n",
       "    <tr>\n",
       "      <th>251</th>\n",
       "      <td>2023-06-01</td>\n",
       "      <td>3.6</td>\n",
       "    </tr>\n",
       "    <tr>\n",
       "      <th>252</th>\n",
       "      <td>2023-07-01</td>\n",
       "      <td>3.5</td>\n",
       "    </tr>\n",
       "    <tr>\n",
       "      <th>253</th>\n",
       "      <td>2023-08-01</td>\n",
       "      <td>3.8</td>\n",
       "    </tr>\n",
       "    <tr>\n",
       "      <th>254</th>\n",
       "      <td>2023-09-01</td>\n",
       "      <td>3.8</td>\n",
       "    </tr>\n",
       "  </tbody>\n",
       "</table>\n",
       "</div>"
      ],
      "text/plain": [
       "           DATE  UNRATE\n",
       "250  2023-05-01     3.7\n",
       "251  2023-06-01     3.6\n",
       "252  2023-07-01     3.5\n",
       "253  2023-08-01     3.8\n",
       "254  2023-09-01     3.8"
      ]
     },
     "execution_count": 3,
     "metadata": {},
     "output_type": "execute_result"
    }
   ],
   "source": [
    "# Reading Unemployment Rate Data into a dataframe\n",
    "df_unemp = pd.read_csv(\"Unemployment rate.csv\")\n",
    "mask = df_unemp[\"DATE\"] >= \"2002-07-01\"\n",
    "df_unemp = df_unemp[mask]\n",
    "\n",
    "#Resetting Index\n",
    "df_unemp.reset_index(inplace = True)\n",
    "df_unemp.drop(columns = [\"index\"], inplace = True)\n",
    "df_unemp.drop([255], inplace = True)\n",
    "print(df_unemp.shape)\n",
    "df_unemp.tail()"
   ]
  },
  {
   "cell_type": "code",
   "execution_count": 4,
   "id": "b1b81748",
   "metadata": {},
   "outputs": [
    {
     "name": "stdout",
     "output_type": "stream",
     "text": [
      "(85, 2)\n"
     ]
    },
    {
     "data": {
      "text/html": [
       "<div>\n",
       "<style scoped>\n",
       "    .dataframe tbody tr th:only-of-type {\n",
       "        vertical-align: middle;\n",
       "    }\n",
       "\n",
       "    .dataframe tbody tr th {\n",
       "        vertical-align: top;\n",
       "    }\n",
       "\n",
       "    .dataframe thead th {\n",
       "        text-align: right;\n",
       "    }\n",
       "</style>\n",
       "<table border=\"1\" class=\"dataframe\">\n",
       "  <thead>\n",
       "    <tr style=\"text-align: right;\">\n",
       "      <th></th>\n",
       "      <th>DATE</th>\n",
       "      <th>Per_Capita_GDP</th>\n",
       "    </tr>\n",
       "  </thead>\n",
       "  <tbody>\n",
       "    <tr>\n",
       "      <th>90</th>\n",
       "      <td>2022-07-01</td>\n",
       "      <td>65462.0</td>\n",
       "    </tr>\n",
       "    <tr>\n",
       "      <th>91</th>\n",
       "      <td>2022-10-01</td>\n",
       "      <td>65783.0</td>\n",
       "    </tr>\n",
       "    <tr>\n",
       "      <th>92</th>\n",
       "      <td>2023-01-01</td>\n",
       "      <td>66078.0</td>\n",
       "    </tr>\n",
       "    <tr>\n",
       "      <th>93</th>\n",
       "      <td>2023-04-01</td>\n",
       "      <td>66341.0</td>\n",
       "    </tr>\n",
       "    <tr>\n",
       "      <th>94</th>\n",
       "      <td>2023-07-01</td>\n",
       "      <td>67083.0</td>\n",
       "    </tr>\n",
       "  </tbody>\n",
       "</table>\n",
       "</div>"
      ],
      "text/plain": [
       "          DATE  Per_Capita_GDP\n",
       "90  2022-07-01         65462.0\n",
       "91  2022-10-01         65783.0\n",
       "92  2023-01-01         66078.0\n",
       "93  2023-04-01         66341.0\n",
       "94  2023-07-01         67083.0"
      ]
     },
     "execution_count": 4,
     "metadata": {},
     "output_type": "execute_result"
    }
   ],
   "source": [
    "# Reading Per Capita GDP Data into a dataframe\n",
    "df_pcgdp = pd.read_csv(\"GDP.csv\", names = [\"DATE\", \"Per_Capita_GDP\"], skiprows = 1)\n",
    "mask=df_pcgdp[\"DATE\"] >= \"2002-07-01\"\n",
    "df_pcgdp = df_pcgdp[mask]\n",
    "print(df_pcgdp.shape)\n",
    "df_pcgdp.tail()"
   ]
  },
  {
   "cell_type": "code",
   "execution_count": 5,
   "id": "68904252",
   "metadata": {},
   "outputs": [
    {
     "name": "stdout",
     "output_type": "stream",
     "text": [
      "(230, 2)\n"
     ]
    },
    {
     "data": {
      "text/html": [
       "<div>\n",
       "<style scoped>\n",
       "    .dataframe tbody tr th:only-of-type {\n",
       "        vertical-align: middle;\n",
       "    }\n",
       "\n",
       "    .dataframe tbody tr th {\n",
       "        vertical-align: top;\n",
       "    }\n",
       "\n",
       "    .dataframe thead th {\n",
       "        text-align: right;\n",
       "    }\n",
       "</style>\n",
       "<table border=\"1\" class=\"dataframe\">\n",
       "  <thead>\n",
       "    <tr style=\"text-align: right;\">\n",
       "      <th></th>\n",
       "      <th>DATE</th>\n",
       "      <th>Interest_rate</th>\n",
       "    </tr>\n",
       "  </thead>\n",
       "  <tbody>\n",
       "    <tr>\n",
       "      <th>255</th>\n",
       "      <td>2021-04-01</td>\n",
       "      <td>0.25</td>\n",
       "    </tr>\n",
       "    <tr>\n",
       "      <th>256</th>\n",
       "      <td>2021-05-01</td>\n",
       "      <td>0.25</td>\n",
       "    </tr>\n",
       "    <tr>\n",
       "      <th>257</th>\n",
       "      <td>2021-06-01</td>\n",
       "      <td>0.25</td>\n",
       "    </tr>\n",
       "    <tr>\n",
       "      <th>258</th>\n",
       "      <td>2021-07-01</td>\n",
       "      <td>0.25</td>\n",
       "    </tr>\n",
       "    <tr>\n",
       "      <th>259</th>\n",
       "      <td>2021-08-01</td>\n",
       "      <td>0.25</td>\n",
       "    </tr>\n",
       "  </tbody>\n",
       "</table>\n",
       "</div>"
      ],
      "text/plain": [
       "           DATE  Interest_rate\n",
       "255  2021-04-01           0.25\n",
       "256  2021-05-01           0.25\n",
       "257  2021-06-01           0.25\n",
       "258  2021-07-01           0.25\n",
       "259  2021-08-01           0.25"
      ]
     },
     "execution_count": 5,
     "metadata": {},
     "output_type": "execute_result"
    }
   ],
   "source": [
    "\n",
    "# Interest Rate Data\n",
    "df_Fed_rate = pd.read_csv(\"interest rates.csv\",names=[\"DATE\",\"Interest_rate\"],skiprows=1)\n",
    "mask =df_Fed_rate[\"DATE\"] >= \"2002-07-01\"\n",
    "df_Fed_rate = df_Fed_rate[mask]\n",
    "print(df_Fed_rate.shape)\n",
    "df_Fed_rate.tail()"
   ]
  },
  {
   "cell_type": "code",
   "execution_count": 6,
   "id": "2c16857c",
   "metadata": {},
   "outputs": [
    {
     "name": "stdout",
     "output_type": "stream",
     "text": [
      "(255, 2)\n"
     ]
    },
    {
     "data": {
      "text/html": [
       "<div>\n",
       "<style scoped>\n",
       "    .dataframe tbody tr th:only-of-type {\n",
       "        vertical-align: middle;\n",
       "    }\n",
       "\n",
       "    .dataframe tbody tr th {\n",
       "        vertical-align: top;\n",
       "    }\n",
       "\n",
       "    .dataframe thead th {\n",
       "        text-align: right;\n",
       "    }\n",
       "</style>\n",
       "<table border=\"1\" class=\"dataframe\">\n",
       "  <thead>\n",
       "    <tr style=\"text-align: right;\">\n",
       "      <th></th>\n",
       "      <th>DATE</th>\n",
       "      <th>Cons_Materials</th>\n",
       "    </tr>\n",
       "  </thead>\n",
       "  <tbody>\n",
       "    <tr>\n",
       "      <th>280</th>\n",
       "      <td>2023-05-01</td>\n",
       "      <td>337.473</td>\n",
       "    </tr>\n",
       "    <tr>\n",
       "      <th>281</th>\n",
       "      <td>2023-06-01</td>\n",
       "      <td>337.336</td>\n",
       "    </tr>\n",
       "    <tr>\n",
       "      <th>282</th>\n",
       "      <td>2023-07-01</td>\n",
       "      <td>334.576</td>\n",
       "    </tr>\n",
       "    <tr>\n",
       "      <th>283</th>\n",
       "      <td>2023-08-01</td>\n",
       "      <td>333.980</td>\n",
       "    </tr>\n",
       "    <tr>\n",
       "      <th>284</th>\n",
       "      <td>2023-09-01</td>\n",
       "      <td>332.224</td>\n",
       "    </tr>\n",
       "  </tbody>\n",
       "</table>\n",
       "</div>"
      ],
      "text/plain": [
       "           DATE  Cons_Materials\n",
       "280  2023-05-01         337.473\n",
       "281  2023-06-01         337.336\n",
       "282  2023-07-01         334.576\n",
       "283  2023-08-01         333.980\n",
       "284  2023-09-01         332.224"
      ]
     },
     "execution_count": 6,
     "metadata": {},
     "output_type": "execute_result"
    }
   ],
   "source": [
    "# Reading construction price Data into a dataframe\n",
    "df_cons_price_index = pd.read_csv(\"construction price.csv\", names = [\"DATE\", \"Cons_Materials\"], skiprows = 1)\n",
    "df_cons_price_index = df_cons_price_index[df_cons_price_index['DATE'] >= '2002-07-01'] \n",
    "df_cons_price_index = df_cons_price_index[df_cons_price_index['DATE'] <= '2023-09-01'] \n",
    "print(df_cons_price_index.shape)\n",
    "df_cons_price_index.tail()"
   ]
  },
  {
   "cell_type": "code",
   "execution_count": 7,
   "id": "546e31f3",
   "metadata": {},
   "outputs": [
    {
     "name": "stdout",
     "output_type": "stream",
     "text": [
      "(255, 2)\n"
     ]
    },
    {
     "data": {
      "text/html": [
       "<div>\n",
       "<style scoped>\n",
       "    .dataframe tbody tr th:only-of-type {\n",
       "        vertical-align: middle;\n",
       "    }\n",
       "\n",
       "    .dataframe tbody tr th {\n",
       "        vertical-align: top;\n",
       "    }\n",
       "\n",
       "    .dataframe thead th {\n",
       "        text-align: right;\n",
       "    }\n",
       "</style>\n",
       "<table border=\"1\" class=\"dataframe\">\n",
       "  <thead>\n",
       "    <tr style=\"text-align: right;\">\n",
       "      <th></th>\n",
       "      <th>DATE</th>\n",
       "      <th>CPI</th>\n",
       "    </tr>\n",
       "  </thead>\n",
       "  <tbody>\n",
       "    <tr>\n",
       "      <th>280</th>\n",
       "      <td>2023-05-01</td>\n",
       "      <td>303.294</td>\n",
       "    </tr>\n",
       "    <tr>\n",
       "      <th>281</th>\n",
       "      <td>2023-06-01</td>\n",
       "      <td>303.841</td>\n",
       "    </tr>\n",
       "    <tr>\n",
       "      <th>282</th>\n",
       "      <td>2023-07-01</td>\n",
       "      <td>304.348</td>\n",
       "    </tr>\n",
       "    <tr>\n",
       "      <th>283</th>\n",
       "      <td>2023-08-01</td>\n",
       "      <td>306.269</td>\n",
       "    </tr>\n",
       "    <tr>\n",
       "      <th>284</th>\n",
       "      <td>2023-09-01</td>\n",
       "      <td>307.481</td>\n",
       "    </tr>\n",
       "  </tbody>\n",
       "</table>\n",
       "</div>"
      ],
      "text/plain": [
       "           DATE      CPI\n",
       "280  2023-05-01  303.294\n",
       "281  2023-06-01  303.841\n",
       "282  2023-07-01  304.348\n",
       "283  2023-08-01  306.269\n",
       "284  2023-09-01  307.481"
      ]
     },
     "execution_count": 7,
     "metadata": {},
     "output_type": "execute_result"
    }
   ],
   "source": [
    "# Consumer Price Index\n",
    "df_CPI = pd.read_csv(\"cpi.csv\", names = [\"DATE\", \"CPI\"], skiprows = 1)\n",
    "df_CPI = df_CPI[df_CPI['DATE'] >= '2002-07-01']\n",
    "df_CPI = df_CPI[df_CPI['DATE'] <= '2023-09-01']\n",
    "print(df_CPI.shape)\n",
    "df_CPI.tail()"
   ]
  },
  {
   "cell_type": "code",
   "execution_count": 8,
   "id": "1a16645c",
   "metadata": {},
   "outputs": [
    {
     "name": "stdout",
     "output_type": "stream",
     "text": [
      "(255, 2)\n"
     ]
    },
    {
     "data": {
      "text/html": [
       "<div>\n",
       "<style scoped>\n",
       "    .dataframe tbody tr th:only-of-type {\n",
       "        vertical-align: middle;\n",
       "    }\n",
       "\n",
       "    .dataframe tbody tr th {\n",
       "        vertical-align: top;\n",
       "    }\n",
       "\n",
       "    .dataframe thead th {\n",
       "        text-align: right;\n",
       "    }\n",
       "</style>\n",
       "<table border=\"1\" class=\"dataframe\">\n",
       "  <thead>\n",
       "    <tr style=\"text-align: right;\">\n",
       "      <th></th>\n",
       "      <th>DATE</th>\n",
       "      <th>Houses</th>\n",
       "    </tr>\n",
       "  </thead>\n",
       "  <tbody>\n",
       "    <tr>\n",
       "      <th>268</th>\n",
       "      <td>2023-05-01</td>\n",
       "      <td>7.2</td>\n",
       "    </tr>\n",
       "    <tr>\n",
       "      <th>269</th>\n",
       "      <td>2023-06-01</td>\n",
       "      <td>7.5</td>\n",
       "    </tr>\n",
       "    <tr>\n",
       "      <th>270</th>\n",
       "      <td>2023-07-01</td>\n",
       "      <td>7.1</td>\n",
       "    </tr>\n",
       "    <tr>\n",
       "      <th>271</th>\n",
       "      <td>2023-08-01</td>\n",
       "      <td>7.8</td>\n",
       "    </tr>\n",
       "    <tr>\n",
       "      <th>272</th>\n",
       "      <td>2023-09-01</td>\n",
       "      <td>7.2</td>\n",
       "    </tr>\n",
       "  </tbody>\n",
       "</table>\n",
       "</div>"
      ],
      "text/plain": [
       "           DATE  Houses\n",
       "268  2023-05-01     7.2\n",
       "269  2023-06-01     7.5\n",
       "270  2023-07-01     7.1\n",
       "271  2023-08-01     7.8\n",
       "272  2023-09-01     7.2"
      ]
     },
     "execution_count": 8,
     "metadata": {},
     "output_type": "execute_result"
    }
   ],
   "source": [
    "# Monthly new house supply\n",
    "df_house = pd.read_csv(\"Number of houses.csv\", names = [\"DATE\", \"Houses\"], skiprows = 1)\n",
    "df_house = df_house[df_house['DATE'] >= '2002-07-01']\n",
    "df_house = df_house[df_house['DATE'] <= '2023-09-01']\n",
    "print(df_house.shape)\n",
    "df_house.tail()"
   ]
  },
  {
   "cell_type": "code",
   "execution_count": 9,
   "id": "1d937c9a",
   "metadata": {},
   "outputs": [
    {
     "name": "stdout",
     "output_type": "stream",
     "text": [
      "(20, 2)\n"
     ]
    },
    {
     "data": {
      "text/html": [
       "<div>\n",
       "<style scoped>\n",
       "    .dataframe tbody tr th:only-of-type {\n",
       "        vertical-align: middle;\n",
       "    }\n",
       "\n",
       "    .dataframe tbody tr th {\n",
       "        vertical-align: top;\n",
       "    }\n",
       "\n",
       "    .dataframe thead th {\n",
       "        text-align: right;\n",
       "    }\n",
       "</style>\n",
       "<table border=\"1\" class=\"dataframe\">\n",
       "  <thead>\n",
       "    <tr style=\"text-align: right;\">\n",
       "      <th></th>\n",
       "      <th>DATE</th>\n",
       "      <th>Subsidy</th>\n",
       "    </tr>\n",
       "  </thead>\n",
       "  <tbody>\n",
       "    <tr>\n",
       "      <th>18</th>\n",
       "      <td>2018-01-01</td>\n",
       "      <td>38.859</td>\n",
       "    </tr>\n",
       "    <tr>\n",
       "      <th>19</th>\n",
       "      <td>2019-01-01</td>\n",
       "      <td>40.185</td>\n",
       "    </tr>\n",
       "    <tr>\n",
       "      <th>20</th>\n",
       "      <td>2020-01-01</td>\n",
       "      <td>44.147</td>\n",
       "    </tr>\n",
       "    <tr>\n",
       "      <th>21</th>\n",
       "      <td>2021-01-01</td>\n",
       "      <td>45.299</td>\n",
       "    </tr>\n",
       "    <tr>\n",
       "      <th>22</th>\n",
       "      <td>2022-01-01</td>\n",
       "      <td>48.021</td>\n",
       "    </tr>\n",
       "  </tbody>\n",
       "</table>\n",
       "</div>"
      ],
      "text/plain": [
       "          DATE  Subsidy\n",
       "18  2018-01-01   38.859\n",
       "19  2019-01-01   40.185\n",
       "20  2020-01-01   44.147\n",
       "21  2021-01-01   45.299\n",
       "22  2022-01-01   48.021"
      ]
     },
     "execution_count": 9,
     "metadata": {},
     "output_type": "execute_result"
    }
   ],
   "source": [
    "# Housing Subsidies\n",
    "\n",
    "df_subsidy = pd.read_csv(\"government Subsidies.csv\", names = [\"DATE\", \"Subsidy\"], skiprows = 1)\n",
    "df_subsidy = df_subsidy[df_subsidy['DATE'] >= '2002-07-01']\n",
    "df_subsidy = df_subsidy[df_subsidy['DATE'] <= '2023-09-01']\n",
    "print(df_subsidy.shape)\n",
    "df_subsidy.tail()"
   ]
  },
  {
   "cell_type": "code",
   "execution_count": 38,
   "id": "61e8475b",
   "metadata": {},
   "outputs": [
    {
     "data": {
      "text/plain": [
       "Index(['DATE', 'Subsidy'], dtype='object')"
      ]
     },
     "execution_count": 38,
     "metadata": {},
     "output_type": "execute_result"
    }
   ],
   "source": [
    "df_subsidy.columns"
   ]
  },
  {
   "cell_type": "code",
   "execution_count": 10,
   "id": "80f67f91",
   "metadata": {},
   "outputs": [
    {
     "name": "stdout",
     "output_type": "stream",
     "text": [
      "(255, 2)\n"
     ]
    },
    {
     "data": {
      "text/html": [
       "<div>\n",
       "<style scoped>\n",
       "    .dataframe tbody tr th:only-of-type {\n",
       "        vertical-align: middle;\n",
       "    }\n",
       "\n",
       "    .dataframe tbody tr th {\n",
       "        vertical-align: top;\n",
       "    }\n",
       "\n",
       "    .dataframe thead th {\n",
       "        text-align: right;\n",
       "    }\n",
       "</style>\n",
       "<table border=\"1\" class=\"dataframe\">\n",
       "  <thead>\n",
       "    <tr style=\"text-align: right;\">\n",
       "      <th></th>\n",
       "      <th>DATE</th>\n",
       "      <th>Working_Population</th>\n",
       "    </tr>\n",
       "  </thead>\n",
       "  <tbody>\n",
       "    <tr>\n",
       "      <th>280</th>\n",
       "      <td>2023-05-01</td>\n",
       "      <td>2.086128e+08</td>\n",
       "    </tr>\n",
       "    <tr>\n",
       "      <th>281</th>\n",
       "      <td>2023-06-01</td>\n",
       "      <td>2.087069e+08</td>\n",
       "    </tr>\n",
       "    <tr>\n",
       "      <th>282</th>\n",
       "      <td>2023-07-01</td>\n",
       "      <td>2.087792e+08</td>\n",
       "    </tr>\n",
       "    <tr>\n",
       "      <th>283</th>\n",
       "      <td>2023-08-01</td>\n",
       "      <td>2.089066e+08</td>\n",
       "    </tr>\n",
       "    <tr>\n",
       "      <th>284</th>\n",
       "      <td>2023-09-01</td>\n",
       "      <td>2.091172e+08</td>\n",
       "    </tr>\n",
       "  </tbody>\n",
       "</table>\n",
       "</div>"
      ],
      "text/plain": [
       "           DATE  Working_Population\n",
       "280  2023-05-01        2.086128e+08\n",
       "281  2023-06-01        2.087069e+08\n",
       "282  2023-07-01        2.087792e+08\n",
       "283  2023-08-01        2.089066e+08\n",
       "284  2023-09-01        2.091172e+08"
      ]
     },
     "execution_count": 10,
     "metadata": {},
     "output_type": "execute_result"
    }
   ],
   "source": [
    "# Working age population\n",
    "\n",
    "df_working = pd.read_csv(\"workingagepopulation.csv\", names = [\"DATE\", \"Working_Population\"], skiprows = 1)\n",
    "df_working = df_working[df_working['DATE'] >= '2002-07-01']\n",
    "df_working = df_working[df_working['DATE'] <= '2023-09-01']\n",
    "\n",
    "print(df_working.shape)\n",
    "df_working.tail()"
   ]
  },
  {
   "cell_type": "code",
   "execution_count": 11,
   "id": "ac3b7906",
   "metadata": {},
   "outputs": [
    {
     "name": "stdout",
     "output_type": "stream",
     "text": [
      "(20, 2)\n"
     ]
    },
    {
     "data": {
      "text/html": [
       "<div>\n",
       "<style scoped>\n",
       "    .dataframe tbody tr th:only-of-type {\n",
       "        vertical-align: middle;\n",
       "    }\n",
       "\n",
       "    .dataframe tbody tr th {\n",
       "        vertical-align: top;\n",
       "    }\n",
       "\n",
       "    .dataframe thead th {\n",
       "        text-align: right;\n",
       "    }\n",
       "</style>\n",
       "<table border=\"1\" class=\"dataframe\">\n",
       "  <thead>\n",
       "    <tr style=\"text-align: right;\">\n",
       "      <th></th>\n",
       "      <th>DATE</th>\n",
       "      <th>Income</th>\n",
       "    </tr>\n",
       "  </thead>\n",
       "  <tbody>\n",
       "    <tr>\n",
       "      <th>18</th>\n",
       "      <td>2018-01-01</td>\n",
       "      <td>73030</td>\n",
       "    </tr>\n",
       "    <tr>\n",
       "      <th>19</th>\n",
       "      <td>2019-01-01</td>\n",
       "      <td>78250</td>\n",
       "    </tr>\n",
       "    <tr>\n",
       "      <th>20</th>\n",
       "      <td>2020-01-01</td>\n",
       "      <td>76660</td>\n",
       "    </tr>\n",
       "    <tr>\n",
       "      <th>21</th>\n",
       "      <td>2021-01-01</td>\n",
       "      <td>76330</td>\n",
       "    </tr>\n",
       "    <tr>\n",
       "      <th>22</th>\n",
       "      <td>2022-01-01</td>\n",
       "      <td>74580</td>\n",
       "    </tr>\n",
       "  </tbody>\n",
       "</table>\n",
       "</div>"
      ],
      "text/plain": [
       "          DATE  Income\n",
       "18  2018-01-01   73030\n",
       "19  2019-01-01   78250\n",
       "20  2020-01-01   76660\n",
       "21  2021-01-01   76330\n",
       "22  2022-01-01   74580"
      ]
     },
     "execution_count": 11,
     "metadata": {},
     "output_type": "execute_result"
    }
   ],
   "source": [
    "# Real Median Household Income\n",
    "\n",
    "df_income = pd.read_csv(\"Median household income.csv\", names = [\"DATE\", \"Income\"], skiprows = 1)\n",
    "df_income = df_income[df_income['DATE'] >= '2002-07-01']\n",
    "df_income = df_income[df_income['DATE'] <= '2023-09-01']\n",
    "print(df_income.shape)\n",
    "df_income.tail()"
   ]
  },
  {
   "cell_type": "code",
   "execution_count": 12,
   "id": "e796cd46",
   "metadata": {},
   "outputs": [
    {
     "name": "stdout",
     "output_type": "stream",
     "text": [
      "(255, 2)\n"
     ]
    },
    {
     "data": {
      "text/html": [
       "<div>\n",
       "<style scoped>\n",
       "    .dataframe tbody tr th:only-of-type {\n",
       "        vertical-align: middle;\n",
       "    }\n",
       "\n",
       "    .dataframe tbody tr th {\n",
       "        vertical-align: top;\n",
       "    }\n",
       "\n",
       "    .dataframe thead th {\n",
       "        text-align: right;\n",
       "    }\n",
       "</style>\n",
       "<table border=\"1\" class=\"dataframe\">\n",
       "  <thead>\n",
       "    <tr style=\"text-align: right;\">\n",
       "      <th></th>\n",
       "      <th>DATE</th>\n",
       "      <th>Num_Households</th>\n",
       "    </tr>\n",
       "  </thead>\n",
       "  <tbody>\n",
       "    <tr>\n",
       "      <th>268</th>\n",
       "      <td>2023-05-01</td>\n",
       "      <td>7.2</td>\n",
       "    </tr>\n",
       "    <tr>\n",
       "      <th>269</th>\n",
       "      <td>2023-06-01</td>\n",
       "      <td>7.5</td>\n",
       "    </tr>\n",
       "    <tr>\n",
       "      <th>270</th>\n",
       "      <td>2023-07-01</td>\n",
       "      <td>7.1</td>\n",
       "    </tr>\n",
       "    <tr>\n",
       "      <th>271</th>\n",
       "      <td>2023-08-01</td>\n",
       "      <td>7.8</td>\n",
       "    </tr>\n",
       "    <tr>\n",
       "      <th>272</th>\n",
       "      <td>2023-09-01</td>\n",
       "      <td>7.2</td>\n",
       "    </tr>\n",
       "  </tbody>\n",
       "</table>\n",
       "</div>"
      ],
      "text/plain": [
       "           DATE  Num_Households\n",
       "268  2023-05-01             7.2\n",
       "269  2023-06-01             7.5\n",
       "270  2023-07-01             7.1\n",
       "271  2023-08-01             7.8\n",
       "272  2023-09-01             7.2"
      ]
     },
     "execution_count": 12,
     "metadata": {},
     "output_type": "execute_result"
    }
   ],
   "source": [
    "# Number of households\n",
    "\n",
    "df_households = pd.read_csv(\"Number of houses.csv\", names = [\"DATE\", \"Num_Households\"], skiprows = 1)\n",
    "df_households = df_households[df_households['DATE'] >= '2002-07-01']\n",
    "df_households = df_households[df_households['DATE'] <= '2023-09-01']\n",
    "print(df_households.shape)\n",
    "df_households.tail()"
   ]
  },
  {
   "cell_type": "code",
   "execution_count": 13,
   "id": "c6cdf2a1",
   "metadata": {},
   "outputs": [
    {
     "data": {
      "text/plain": [
       "(255, 5)"
      ]
     },
     "execution_count": 13,
     "metadata": {},
     "output_type": "execute_result"
    }
   ],
   "source": [
    "# Merging Per Capita GDP (Quarterly data)\n",
    "df_pcgdp[\"DATE\"] = pd.to_datetime(df_pcgdp[\"DATE\"])\n",
    "df_CS = pd.merge(df_CS,df_pcgdp, how = \"left\")\n",
    "df_CS.shape"
   ]
  },
  {
   "cell_type": "code",
   "execution_count": 14,
   "id": "63b1ef7f",
   "metadata": {},
   "outputs": [
    {
     "name": "stdout",
     "output_type": "stream",
     "text": [
      "(255, 10)\n"
     ]
    },
    {
     "data": {
      "text/html": [
       "<div>\n",
       "<style scoped>\n",
       "    .dataframe tbody tr th:only-of-type {\n",
       "        vertical-align: middle;\n",
       "    }\n",
       "\n",
       "    .dataframe tbody tr th {\n",
       "        vertical-align: top;\n",
       "    }\n",
       "\n",
       "    .dataframe thead th {\n",
       "        text-align: right;\n",
       "    }\n",
       "</style>\n",
       "<table border=\"1\" class=\"dataframe\">\n",
       "  <thead>\n",
       "    <tr style=\"text-align: right;\">\n",
       "      <th></th>\n",
       "      <th>CSUSHPISA</th>\n",
       "      <th>Year</th>\n",
       "      <th>Month</th>\n",
       "      <th>Per_Capita_GDP</th>\n",
       "      <th>Working_Population</th>\n",
       "      <th>Houses</th>\n",
       "      <th>CPI</th>\n",
       "      <th>UNRATE</th>\n",
       "      <th>Cons_Materials</th>\n",
       "      <th>Interest_rate</th>\n",
       "    </tr>\n",
       "    <tr>\n",
       "      <th>DATE</th>\n",
       "      <th></th>\n",
       "      <th></th>\n",
       "      <th></th>\n",
       "      <th></th>\n",
       "      <th></th>\n",
       "      <th></th>\n",
       "      <th></th>\n",
       "      <th></th>\n",
       "      <th></th>\n",
       "      <th></th>\n",
       "    </tr>\n",
       "  </thead>\n",
       "  <tbody>\n",
       "    <tr>\n",
       "      <th>2002-07-01</th>\n",
       "      <td>122.888</td>\n",
       "      <td>2002</td>\n",
       "      <td>7</td>\n",
       "      <td>50362.0</td>\n",
       "      <td>1.838869e+08</td>\n",
       "      <td>4.2</td>\n",
       "      <td>180.0</td>\n",
       "      <td>5.8</td>\n",
       "      <td>144.7</td>\n",
       "      <td>1.25</td>\n",
       "    </tr>\n",
       "    <tr>\n",
       "      <th>2002-08-01</th>\n",
       "      <td>123.830</td>\n",
       "      <td>2002</td>\n",
       "      <td>8</td>\n",
       "      <td>NaN</td>\n",
       "      <td>1.841596e+08</td>\n",
       "      <td>4.0</td>\n",
       "      <td>180.5</td>\n",
       "      <td>5.7</td>\n",
       "      <td>145.1</td>\n",
       "      <td>1.25</td>\n",
       "    </tr>\n",
       "    <tr>\n",
       "      <th>2002-09-01</th>\n",
       "      <td>124.780</td>\n",
       "      <td>2002</td>\n",
       "      <td>9</td>\n",
       "      <td>NaN</td>\n",
       "      <td>1.844224e+08</td>\n",
       "      <td>3.9</td>\n",
       "      <td>180.8</td>\n",
       "      <td>5.7</td>\n",
       "      <td>145.4</td>\n",
       "      <td>1.25</td>\n",
       "    </tr>\n",
       "    <tr>\n",
       "      <th>2002-10-01</th>\n",
       "      <td>125.735</td>\n",
       "      <td>2002</td>\n",
       "      <td>10</td>\n",
       "      <td>50302.0</td>\n",
       "      <td>1.845542e+08</td>\n",
       "      <td>4.0</td>\n",
       "      <td>181.2</td>\n",
       "      <td>5.7</td>\n",
       "      <td>145.0</td>\n",
       "      <td>1.25</td>\n",
       "    </tr>\n",
       "    <tr>\n",
       "      <th>2002-11-01</th>\n",
       "      <td>126.670</td>\n",
       "      <td>2002</td>\n",
       "      <td>11</td>\n",
       "      <td>NaN</td>\n",
       "      <td>1.847447e+08</td>\n",
       "      <td>4.0</td>\n",
       "      <td>181.5</td>\n",
       "      <td>5.9</td>\n",
       "      <td>144.6</td>\n",
       "      <td>0.83</td>\n",
       "    </tr>\n",
       "  </tbody>\n",
       "</table>\n",
       "</div>"
      ],
      "text/plain": [
       "            CSUSHPISA  Year  Month  Per_Capita_GDP  Working_Population  \\\n",
       "DATE                                                                     \n",
       "2002-07-01    122.888  2002      7         50362.0        1.838869e+08   \n",
       "2002-08-01    123.830  2002      8             NaN        1.841596e+08   \n",
       "2002-09-01    124.780  2002      9             NaN        1.844224e+08   \n",
       "2002-10-01    125.735  2002     10         50302.0        1.845542e+08   \n",
       "2002-11-01    126.670  2002     11             NaN        1.847447e+08   \n",
       "\n",
       "            Houses    CPI  UNRATE  Cons_Materials  Interest_rate  \n",
       "DATE                                                              \n",
       "2002-07-01     4.2  180.0     5.8           144.7           1.25  \n",
       "2002-08-01     4.0  180.5     5.7           145.1           1.25  \n",
       "2002-09-01     3.9  180.8     5.7           145.4           1.25  \n",
       "2002-10-01     4.0  181.2     5.7           145.0           1.25  \n",
       "2002-11-01     4.0  181.5     5.9           144.6           0.83  "
      ]
     },
     "execution_count": 14,
     "metadata": {},
     "output_type": "execute_result"
    }
   ],
   "source": [
    "# Concating dataframes having monthly data to create one dataframe\n",
    "df = pd.DataFrame()\n",
    "df_bymonth = [df_CS, df_working, df_house, df_CPI, df_unemp, df_cons_price_index, df_Fed_rate]\n",
    "for df1 in df_bymonth:\n",
    "    df1[\"DATE\"] = pd.to_datetime(df1[\"DATE\"])\n",
    "    df1 = df1.set_index(\"DATE\")\n",
    "    df = pd.concat([df,df1], axis = 1)\n",
    "print(df.shape)\n",
    "df.head()"
   ]
  },
  {
   "cell_type": "code",
   "execution_count": 15,
   "id": "e9db9d26",
   "metadata": {},
   "outputs": [
    {
     "data": {
      "text/plain": [
       "(255, 12)"
      ]
     },
     "execution_count": 15,
     "metadata": {},
     "output_type": "execute_result"
    }
   ],
   "source": [
    "# Merging other dataframes \n",
    "others = [  df_income, df_subsidy]\n",
    "for df1 in others:\n",
    "    if \"Year\" not in df1.columns:\n",
    "        df1[\"Year\"] = pd.DatetimeIndex(df1[\"DATE\"]).year\n",
    "        df1.set_index(\"DATE\", inplace = True)\n",
    "        df = pd.merge(df, df1, how = \"left\", on = \"Year\")\n",
    "    else:\n",
    "        df1.set_index(\"DATE\", inplace = True)\n",
    "        df = pd.merge(df, df1, how = \"left\", on = \"Year\")\n",
    "df[\"DATE\"] = df_CS[\"DATE\"]\n",
    "df.set_index(\"DATE\", inplace = True)\n",
    "df.head()\n",
    "df.shape"
   ]
  },
  {
   "cell_type": "code",
   "execution_count": 29,
   "id": "fd0516f0",
   "metadata": {},
   "outputs": [
    {
     "data": {
      "text/html": [
       "<div>\n",
       "<style scoped>\n",
       "    .dataframe tbody tr th:only-of-type {\n",
       "        vertical-align: middle;\n",
       "    }\n",
       "\n",
       "    .dataframe tbody tr th {\n",
       "        vertical-align: top;\n",
       "    }\n",
       "\n",
       "    .dataframe thead th {\n",
       "        text-align: right;\n",
       "    }\n",
       "</style>\n",
       "<table border=\"1\" class=\"dataframe\">\n",
       "  <thead>\n",
       "    <tr style=\"text-align: right;\">\n",
       "      <th></th>\n",
       "      <th>CSUSHPISA</th>\n",
       "      <th>Year</th>\n",
       "      <th>Month</th>\n",
       "      <th>Per_Capita_GDP</th>\n",
       "      <th>Working_Population</th>\n",
       "      <th>Houses</th>\n",
       "      <th>CPI</th>\n",
       "      <th>UNRATE</th>\n",
       "      <th>Cons_Materials</th>\n",
       "      <th>Interest_rate</th>\n",
       "      <th>Income</th>\n",
       "      <th>Subsidy</th>\n",
       "      <th>popgrowth</th>\n",
       "    </tr>\n",
       "  </thead>\n",
       "  <tbody>\n",
       "    <tr>\n",
       "      <th>6</th>\n",
       "      <td>128.461</td>\n",
       "      <td>2003</td>\n",
       "      <td>1</td>\n",
       "      <td>50462.000000</td>\n",
       "      <td>1.856353e+08</td>\n",
       "      <td>4.0</td>\n",
       "      <td>182.6</td>\n",
       "      <td>5.8</td>\n",
       "      <td>144.4</td>\n",
       "      <td>2.25</td>\n",
       "      <td>65860.0</td>\n",
       "      <td>25.93</td>\n",
       "      <td>0.859482</td>\n",
       "    </tr>\n",
       "    <tr>\n",
       "      <th>7</th>\n",
       "      <td>129.355</td>\n",
       "      <td>2003</td>\n",
       "      <td>2</td>\n",
       "      <td>50573.333333</td>\n",
       "      <td>1.858697e+08</td>\n",
       "      <td>4.5</td>\n",
       "      <td>183.6</td>\n",
       "      <td>5.9</td>\n",
       "      <td>145.2</td>\n",
       "      <td>2.25</td>\n",
       "      <td>65860.0</td>\n",
       "      <td>25.93</td>\n",
       "      <td>0.859482</td>\n",
       "    </tr>\n",
       "    <tr>\n",
       "      <th>8</th>\n",
       "      <td>130.148</td>\n",
       "      <td>2003</td>\n",
       "      <td>3</td>\n",
       "      <td>50684.666667</td>\n",
       "      <td>1.860851e+08</td>\n",
       "      <td>4.1</td>\n",
       "      <td>183.9</td>\n",
       "      <td>5.9</td>\n",
       "      <td>145.2</td>\n",
       "      <td>2.25</td>\n",
       "      <td>65860.0</td>\n",
       "      <td>25.93</td>\n",
       "      <td>0.859482</td>\n",
       "    </tr>\n",
       "    <tr>\n",
       "      <th>9</th>\n",
       "      <td>130.884</td>\n",
       "      <td>2003</td>\n",
       "      <td>4</td>\n",
       "      <td>50796.000000</td>\n",
       "      <td>1.864708e+08</td>\n",
       "      <td>4.1</td>\n",
       "      <td>183.2</td>\n",
       "      <td>6.0</td>\n",
       "      <td>145.9</td>\n",
       "      <td>2.25</td>\n",
       "      <td>65860.0</td>\n",
       "      <td>25.93</td>\n",
       "      <td>0.859482</td>\n",
       "    </tr>\n",
       "    <tr>\n",
       "      <th>10</th>\n",
       "      <td>131.735</td>\n",
       "      <td>2003</td>\n",
       "      <td>5</td>\n",
       "      <td>51034.666667</td>\n",
       "      <td>1.866491e+08</td>\n",
       "      <td>3.9</td>\n",
       "      <td>182.9</td>\n",
       "      <td>6.1</td>\n",
       "      <td>145.8</td>\n",
       "      <td>2.25</td>\n",
       "      <td>65860.0</td>\n",
       "      <td>25.93</td>\n",
       "      <td>0.859482</td>\n",
       "    </tr>\n",
       "  </tbody>\n",
       "</table>\n",
       "</div>"
      ],
      "text/plain": [
       "    CSUSHPISA  Year  Month  Per_Capita_GDP  Working_Population  Houses    CPI  \\\n",
       "6     128.461  2003      1    50462.000000        1.856353e+08     4.0  182.6   \n",
       "7     129.355  2003      2    50573.333333        1.858697e+08     4.5  183.6   \n",
       "8     130.148  2003      3    50684.666667        1.860851e+08     4.1  183.9   \n",
       "9     130.884  2003      4    50796.000000        1.864708e+08     4.1  183.2   \n",
       "10    131.735  2003      5    51034.666667        1.866491e+08     3.9  182.9   \n",
       "\n",
       "    UNRATE  Cons_Materials  Interest_rate   Income  Subsidy  popgrowth  \n",
       "6      5.8           144.4           2.25  65860.0    25.93   0.859482  \n",
       "7      5.9           145.2           2.25  65860.0    25.93   0.859482  \n",
       "8      5.9           145.2           2.25  65860.0    25.93   0.859482  \n",
       "9      6.0           145.9           2.25  65860.0    25.93   0.859482  \n",
       "10     6.1           145.8           2.25  65860.0    25.93   0.859482  "
      ]
     },
     "execution_count": 29,
     "metadata": {},
     "output_type": "execute_result"
    }
   ],
   "source": [
    "df.head()"
   ]
  },
  {
   "cell_type": "code",
   "execution_count": 16,
   "id": "153929fc",
   "metadata": {},
   "outputs": [
    {
     "data": {
      "text/html": [
       "<div>\n",
       "<style scoped>\n",
       "    .dataframe tbody tr th:only-of-type {\n",
       "        vertical-align: middle;\n",
       "    }\n",
       "\n",
       "    .dataframe tbody tr th {\n",
       "        vertical-align: top;\n",
       "    }\n",
       "\n",
       "    .dataframe thead th {\n",
       "        text-align: right;\n",
       "    }\n",
       "</style>\n",
       "<table border=\"1\" class=\"dataframe\">\n",
       "  <thead>\n",
       "    <tr style=\"text-align: right;\">\n",
       "      <th></th>\n",
       "      <th>DATE</th>\n",
       "      <th>popgrowth</th>\n",
       "    </tr>\n",
       "  </thead>\n",
       "  <tbody>\n",
       "    <tr>\n",
       "      <th>18</th>\n",
       "      <td>2018-01-01</td>\n",
       "      <td>0.526435</td>\n",
       "    </tr>\n",
       "    <tr>\n",
       "      <th>19</th>\n",
       "      <td>2019-01-01</td>\n",
       "      <td>0.455381</td>\n",
       "    </tr>\n",
       "    <tr>\n",
       "      <th>20</th>\n",
       "      <td>2020-01-01</td>\n",
       "      <td>0.964348</td>\n",
       "    </tr>\n",
       "    <tr>\n",
       "      <th>21</th>\n",
       "      <td>2021-01-01</td>\n",
       "      <td>0.156747</td>\n",
       "    </tr>\n",
       "    <tr>\n",
       "      <th>22</th>\n",
       "      <td>2022-01-01</td>\n",
       "      <td>0.377565</td>\n",
       "    </tr>\n",
       "  </tbody>\n",
       "</table>\n",
       "</div>"
      ],
      "text/plain": [
       "         DATE  popgrowth\n",
       "18 2018-01-01   0.526435\n",
       "19 2019-01-01   0.455381\n",
       "20 2020-01-01   0.964348\n",
       "21 2021-01-01   0.156747\n",
       "22 2022-01-01   0.377565"
      ]
     },
     "execution_count": 16,
     "metadata": {},
     "output_type": "execute_result"
    }
   ],
   "source": [
    "popgrowth=pd.read_csv(r\"population growth rate.csv\",names=[\"DATE\",\"popgrowth\"],skiprows=1)\n",
    "popgrowth['DATE'] = pd.to_datetime(popgrowth['DATE'])\n",
    "popgrowth = popgrowth[(popgrowth['DATE'] >= '2002-07-01') & (popgrowth['DATE'] <= '2023-09-01')]\n",
    "popgrowth.tail()"
   ]
  },
  {
   "cell_type": "code",
   "execution_count": 17,
   "id": "52134724",
   "metadata": {},
   "outputs": [],
   "source": [
    "popgrowth[\"Year\"] = pd.DatetimeIndex(popgrowth[\"DATE\"]).year\n",
    "popgrowth.set_index(\"DATE\", inplace = True)\n",
    "df = pd.merge(df,popgrowth , how = \"left\", on = \"Year\")"
   ]
  },
  {
   "cell_type": "code",
   "execution_count": 18,
   "id": "2aac398d",
   "metadata": {},
   "outputs": [
    {
     "data": {
      "text/plain": [
       "(255, 13)"
      ]
     },
     "execution_count": 18,
     "metadata": {},
     "output_type": "execute_result"
    }
   ],
   "source": [
    "df.shape"
   ]
  },
  {
   "cell_type": "code",
   "execution_count": 19,
   "id": "e2dbc3b9",
   "metadata": {},
   "outputs": [
    {
     "name": "stdout",
     "output_type": "stream",
     "text": [
      "<class 'pandas.core.frame.DataFrame'>\n",
      "Int64Index: 255 entries, 0 to 254\n",
      "Data columns (total 13 columns):\n",
      " #   Column              Non-Null Count  Dtype  \n",
      "---  ------              --------------  -----  \n",
      " 0   CSUSHPISA           255 non-null    float64\n",
      " 1   Year                255 non-null    int64  \n",
      " 2   Month               255 non-null    int64  \n",
      " 3   Per_Capita_GDP      85 non-null     float64\n",
      " 4   Working_Population  255 non-null    float64\n",
      " 5   Houses              255 non-null    float64\n",
      " 6   CPI                 255 non-null    float64\n",
      " 7   UNRATE              255 non-null    float64\n",
      " 8   Cons_Materials      255 non-null    float64\n",
      " 9   Interest_rate       230 non-null    float64\n",
      " 10  Income              240 non-null    float64\n",
      " 11  Subsidy             240 non-null    float64\n",
      " 12  popgrowth           240 non-null    float64\n",
      "dtypes: float64(11), int64(2)\n",
      "memory usage: 27.9 KB\n"
     ]
    }
   ],
   "source": [
    "df.info()"
   ]
  },
  {
   "cell_type": "code",
   "execution_count": 78,
   "id": "9cb00983",
   "metadata": {},
   "outputs": [
    {
     "data": {
      "text/html": [
       "<div>\n",
       "<style scoped>\n",
       "    .dataframe tbody tr th:only-of-type {\n",
       "        vertical-align: middle;\n",
       "    }\n",
       "\n",
       "    .dataframe tbody tr th {\n",
       "        vertical-align: top;\n",
       "    }\n",
       "\n",
       "    .dataframe thead th {\n",
       "        text-align: right;\n",
       "    }\n",
       "</style>\n",
       "<table border=\"1\" class=\"dataframe\">\n",
       "  <thead>\n",
       "    <tr style=\"text-align: right;\">\n",
       "      <th></th>\n",
       "      <th>CSUSHPISA</th>\n",
       "      <th>Year</th>\n",
       "      <th>Month</th>\n",
       "      <th>Per_Capita_GDP</th>\n",
       "      <th>Working_Population</th>\n",
       "      <th>Houses</th>\n",
       "      <th>CPI</th>\n",
       "      <th>UNRATE</th>\n",
       "      <th>Cons_Materials</th>\n",
       "      <th>Interest_rate</th>\n",
       "      <th>Income_x</th>\n",
       "      <th>Subsidy_x</th>\n",
       "      <th>Income_y</th>\n",
       "      <th>Subsidy_y</th>\n",
       "      <th>popgrowth</th>\n",
       "    </tr>\n",
       "  </thead>\n",
       "  <tbody>\n",
       "    <tr>\n",
       "      <th>250</th>\n",
       "      <td>302.566</td>\n",
       "      <td>2023</td>\n",
       "      <td>5</td>\n",
       "      <td>NaN</td>\n",
       "      <td>2.086128e+08</td>\n",
       "      <td>7.2</td>\n",
       "      <td>303.294</td>\n",
       "      <td>3.7</td>\n",
       "      <td>337.473</td>\n",
       "      <td>NaN</td>\n",
       "      <td>NaN</td>\n",
       "      <td>NaN</td>\n",
       "      <td>NaN</td>\n",
       "      <td>NaN</td>\n",
       "      <td>NaN</td>\n",
       "    </tr>\n",
       "    <tr>\n",
       "      <th>251</th>\n",
       "      <td>304.593</td>\n",
       "      <td>2023</td>\n",
       "      <td>6</td>\n",
       "      <td>NaN</td>\n",
       "      <td>2.087069e+08</td>\n",
       "      <td>7.5</td>\n",
       "      <td>303.841</td>\n",
       "      <td>3.6</td>\n",
       "      <td>337.336</td>\n",
       "      <td>NaN</td>\n",
       "      <td>NaN</td>\n",
       "      <td>NaN</td>\n",
       "      <td>NaN</td>\n",
       "      <td>NaN</td>\n",
       "      <td>NaN</td>\n",
       "    </tr>\n",
       "    <tr>\n",
       "      <th>252</th>\n",
       "      <td>306.767</td>\n",
       "      <td>2023</td>\n",
       "      <td>7</td>\n",
       "      <td>67083.0</td>\n",
       "      <td>2.087792e+08</td>\n",
       "      <td>7.1</td>\n",
       "      <td>304.348</td>\n",
       "      <td>3.5</td>\n",
       "      <td>334.576</td>\n",
       "      <td>NaN</td>\n",
       "      <td>NaN</td>\n",
       "      <td>NaN</td>\n",
       "      <td>NaN</td>\n",
       "      <td>NaN</td>\n",
       "      <td>NaN</td>\n",
       "    </tr>\n",
       "    <tr>\n",
       "      <th>253</th>\n",
       "      <td>309.155</td>\n",
       "      <td>2023</td>\n",
       "      <td>8</td>\n",
       "      <td>NaN</td>\n",
       "      <td>2.089066e+08</td>\n",
       "      <td>7.8</td>\n",
       "      <td>306.269</td>\n",
       "      <td>3.8</td>\n",
       "      <td>333.980</td>\n",
       "      <td>NaN</td>\n",
       "      <td>NaN</td>\n",
       "      <td>NaN</td>\n",
       "      <td>NaN</td>\n",
       "      <td>NaN</td>\n",
       "      <td>NaN</td>\n",
       "    </tr>\n",
       "    <tr>\n",
       "      <th>254</th>\n",
       "      <td>311.175</td>\n",
       "      <td>2023</td>\n",
       "      <td>9</td>\n",
       "      <td>NaN</td>\n",
       "      <td>2.091172e+08</td>\n",
       "      <td>7.2</td>\n",
       "      <td>307.481</td>\n",
       "      <td>3.8</td>\n",
       "      <td>332.224</td>\n",
       "      <td>NaN</td>\n",
       "      <td>NaN</td>\n",
       "      <td>NaN</td>\n",
       "      <td>NaN</td>\n",
       "      <td>NaN</td>\n",
       "      <td>NaN</td>\n",
       "    </tr>\n",
       "  </tbody>\n",
       "</table>\n",
       "</div>"
      ],
      "text/plain": [
       "     CSUSHPISA  Year  Month  Per_Capita_GDP  Working_Population  Houses  \\\n",
       "250    302.566  2023      5             NaN        2.086128e+08     7.2   \n",
       "251    304.593  2023      6             NaN        2.087069e+08     7.5   \n",
       "252    306.767  2023      7         67083.0        2.087792e+08     7.1   \n",
       "253    309.155  2023      8             NaN        2.089066e+08     7.8   \n",
       "254    311.175  2023      9             NaN        2.091172e+08     7.2   \n",
       "\n",
       "         CPI  UNRATE  Cons_Materials  Interest_rate  Income_x  Subsidy_x  \\\n",
       "250  303.294     3.7         337.473            NaN       NaN        NaN   \n",
       "251  303.841     3.6         337.336            NaN       NaN        NaN   \n",
       "252  304.348     3.5         334.576            NaN       NaN        NaN   \n",
       "253  306.269     3.8         333.980            NaN       NaN        NaN   \n",
       "254  307.481     3.8         332.224            NaN       NaN        NaN   \n",
       "\n",
       "     Income_y  Subsidy_y  popgrowth  \n",
       "250       NaN        NaN        NaN  \n",
       "251       NaN        NaN        NaN  \n",
       "252       NaN        NaN        NaN  \n",
       "253       NaN        NaN        NaN  \n",
       "254       NaN        NaN        NaN  "
      ]
     },
     "execution_count": 78,
     "metadata": {},
     "output_type": "execute_result"
    }
   ],
   "source": [
    "df.tail()"
   ]
  },
  {
   "cell_type": "code",
   "execution_count": 20,
   "id": "13c258b9",
   "metadata": {},
   "outputs": [
    {
     "data": {
      "text/plain": [
       "CSUSHPISA               0\n",
       "Year                    0\n",
       "Month                   0\n",
       "Per_Capita_GDP        170\n",
       "Working_Population      0\n",
       "Houses                  0\n",
       "CPI                     0\n",
       "UNRATE                  0\n",
       "Cons_Materials          0\n",
       "Interest_rate          25\n",
       "Income                 15\n",
       "Subsidy                15\n",
       "popgrowth              15\n",
       "dtype: int64"
      ]
     },
     "execution_count": 20,
     "metadata": {},
     "output_type": "execute_result"
    }
   ],
   "source": [
    "df.isnull().sum()"
   ]
  },
  {
   "cell_type": "markdown",
   "id": "c2ed2261",
   "metadata": {},
   "source": [
    "The \"Per_Capita_GDP\" column has missing values because the data was quarterly. The missing values in the other columns are due to the unavailability of fresh data. We will first fill in the missing values in the \"Per_Capita_GDP\" column using linear interpolation. We will drop the rows with missing values in the other columns. This means that we will use data from 2002 to 2022.\n"
   ]
  },
  {
   "cell_type": "code",
   "execution_count": 21,
   "id": "e5a1baa5",
   "metadata": {},
   "outputs": [],
   "source": [
    "# Filling missing values in the Per_Capita_GDP column using linear interpolation\n",
    "df[\"Per_Capita_GDP\"] = df[\"Per_Capita_GDP\"].interpolate()"
   ]
  },
  {
   "cell_type": "code",
   "execution_count": 22,
   "id": "037137fb",
   "metadata": {},
   "outputs": [],
   "source": [
    "df.dropna(inplace = True)"
   ]
  },
  {
   "cell_type": "code",
   "execution_count": 23,
   "id": "77062619",
   "metadata": {},
   "outputs": [
    {
     "data": {
      "text/plain": [
       "CSUSHPISA             0\n",
       "Year                  0\n",
       "Month                 0\n",
       "Per_Capita_GDP        0\n",
       "Working_Population    0\n",
       "Houses                0\n",
       "CPI                   0\n",
       "UNRATE                0\n",
       "Cons_Materials        0\n",
       "Interest_rate         0\n",
       "Income                0\n",
       "Subsidy               0\n",
       "popgrowth             0\n",
       "dtype: int64"
      ]
     },
     "execution_count": 23,
     "metadata": {},
     "output_type": "execute_result"
    }
   ],
   "source": [
    "df.isnull().sum()"
   ]
  },
  {
   "cell_type": "code",
   "execution_count": 24,
   "id": "72ffc266",
   "metadata": {},
   "outputs": [
    {
     "name": "stdout",
     "output_type": "stream",
     "text": [
      "Shape of the dataframe after preprocessing:-  (224, 13)\n"
     ]
    }
   ],
   "source": [
    "print(\"Shape of the dataframe after preprocessing:- \", df.shape)"
   ]
  },
  {
   "cell_type": "markdown",
   "id": "7d50bbc2",
   "metadata": {},
   "source": [
    "We shall save the resultant dataframe as csv file"
   ]
  },
  {
   "cell_type": "code",
   "execution_count": 25,
   "id": "14ecd904",
   "metadata": {},
   "outputs": [],
   "source": [
    "df.to_csv(\"resultant_dataset.csv\")"
   ]
  },
  {
   "cell_type": "code",
   "execution_count": null,
   "id": "174c2237",
   "metadata": {},
   "outputs": [],
   "source": []
  }
 ],
 "metadata": {
  "kernelspec": {
   "display_name": "Python 3 (ipykernel)",
   "language": "python",
   "name": "python3"
  },
  "language_info": {
   "codemirror_mode": {
    "name": "ipython",
    "version": 3
   },
   "file_extension": ".py",
   "mimetype": "text/x-python",
   "name": "python",
   "nbconvert_exporter": "python",
   "pygments_lexer": "ipython3",
   "version": "3.11.3"
  }
 },
 "nbformat": 4,
 "nbformat_minor": 5
}
